{
 "cells": [
  {
   "cell_type": "markdown",
   "metadata": {},
   "source": [
    "# AEC 500/BAE 599 Lab 6\n",
    "# Working with Geometric Data"
   ]
  },
  {
   "cell_type": "markdown",
   "metadata": {},
   "source": [
    "## Outline\n",
    "1. Setup Anaconda & Install libraries\n",
    "2. Create Geometric Objects\n",
    "3. Perform calucations using geometric objects\n",
    "4. Importing field shapes from Mapping Program\n",
    "5. Performing calculations on actual fields\n",
    "\n",
    "### Part 1: Setup Anaconda & Install libraries\n",
    "Anaconda should be installed from prior work, but it may need to be updated. You will need to install two python libraries (shapely & pyproj). You can do this with the Environment page in Anaconda, but you made need to make sure you are using at least Python 3.8. If not create a new Environment and install your applications and libraries into it.\n",
    "\n",
    "This tutorial will be based on these versions of the libraries:\n",
    "- Python 3.8\n",
    "- Shapely 1.7.1\n",
    "- PyProj 2.6.1\n",
    "\n",
    "### Check your Installation\n",
    "The following code was what I used to generate the images for lecture. Run it to make sure the libraries are installed correctly. You should see something similar to what was in the lecture. *Hint: This is also useful example code for getting started with this lab!*\n"
   ]
  },
  {
   "cell_type": "code",
   "execution_count": 1,
   "metadata": {},
   "outputs": [
    {
     "data": {
      "image/png": "[encoded data removed]",
      "text/plain": [
       "<Figure size 432x288 with 1 Axes>"
      ]
     },
     "metadata": {
      "needs_background": "light"
     },
     "output_type": "display_data"
    }
   ],
   "source": [
    "import numpy as np\n",
    "import matplotlib.pyplot as plt\n",
    "import shapely.geometry as shp\n",
    "\n",
    "# Define the points that make up the square.\n",
    "x1 = 3\n",
    "y1 = 4\n",
    "width = 5\n",
    "boundary = np.array([[  x1, x1+width, x1+width,       x1, x1 ],\n",
    "                     [ y1,        y1, y1+width, y1+width, y1]])\n",
    "\n",
    "# Create the square\n",
    "square = shp.Polygon(boundary.T)\n",
    "\n",
    "# Create the figure and plot the squre\n",
    "fig, ax = plt.subplots()  # Create a figure containing a single axes.\n",
    "ax.set_aspect('equal') # Make the plot sqare\n",
    "ax.set_xlim(0,12) # Set x-axis limits\n",
    "ax.set_ylim(0,12) # Set y-axis limits\n",
    "xn, yn = np.array(square.exterior.xy)\n",
    "# Fill is a command to plot polygons in Matplotlib.\n",
    "# We set the face color (fc) to blue ('b') and the edge color to black('k').\n",
    "# It is 25% transparent with alpha = 0.25\n",
    "ax.fill(xn, yn, alpha=0.25, fc='b',  ec='k')\n",
    "# Plot the point as a dot (format = 'o') and in red (format = 'r'), or together as 'ro'\n",
    "point = shp.Point(6, 6)\n",
    "ax.plot(point.x,point.y,'ro')\n",
    "# Add annotation text for the point. You probably don't need this in lab.\n",
    "ax.text(point.x,point.y,f\"({point.x},{point.y})\")\n",
    "# Add annotation text for the points. The points are in columns in the array \n",
    "# produced by calling square.exterior.xy. You can only iterate over rows in \n",
    "# an numpy array, so it is transposed with the .T, which gives me the columns\n",
    "# as rows. I then pull the x (position 0) and y (position 1) out of the column\n",
    "# and use it in the plot command. You probably don't need this in lab, but I'm\n",
    "# describing what in the world I'm doing in case you are curious. \n",
    "for col in np.array(square.exterior.xy).T:\n",
    "    ax.text(col[0],col[1],f\"({col[0]},{col[1]})\")"
   ]
  },
  {
   "cell_type": "markdown",
   "metadata": {},
   "source": [
    "### Part 2: Create Geometric Objects\n",
    "Let's start simple! First, let's create a point at (3,4).\n",
    "\n",
    "Plot this point"
   ]
  },
  {
   "cell_type": "code",
   "execution_count": 3,
   "metadata": {},
   "outputs": [
    {
     "data": {
      "text/plain": [
       "[<matplotlib.lines.Line2D at 0x7ff4a0073fd0>]"
      ]
     },
     "execution_count": 3,
     "metadata": {},
     "output_type": "execute_result"
    },
    {
     "data": {
      "image/png": "[encoded data removed]",
      "text/plain": [
       "<Figure size 432x288 with 1 Axes>"
      ]
     },
     "metadata": {
      "needs_background": "light"
     },
     "output_type": "display_data"
    }
   ],
   "source": [
    "# Create the figure and plot the squre\n",
    "fig, ax = plt.subplots()  # Create a figure containing a single axes.\n",
    "ax.set_aspect('equal') # Make the plot sqare\n",
    "ax.set_xlim(0,10) # Set x-axis limits\n",
    "ax.set_ylim(0,10) # Set y-axis limits\n",
    "xn, yn = np.array(square.exterior.xy)\n",
    "\n",
    "\n",
    "point = shp.Point(3,4)\n",
    "ax.plot(point.x,point.y,'ro')"
   ]
  },
  {
   "cell_type": "markdown",
   "metadata": {},
   "source": [
    "Let's make this a bit more complicated and plot multiple points.\n",
    "\n",
    "Create the following points:\n",
    "(5,1)\n",
    "(5,5)\n",
    "(1,1)\n",
    "(1,5)\n",
    "\n",
    "Plot these points. Make sure to set your axis limits so that these points are clearly visible and not too large or small."
   ]
  },
  {
   "cell_type": "code",
   "execution_count": 4,
   "metadata": {},
   "outputs": [
    {
     "data": {
      "text/plain": [
       "[<matplotlib.lines.Line2D at 0x7ff4c0d19fd0>]"
      ]
     },
     "execution_count": 4,
     "metadata": {},
     "output_type": "execute_result"
    },
    {
     "data": {
      "image/png": "[encoded data removed]",
      "text/plain": [
       "<Figure size 432x288 with 1 Axes>"
      ]
     },
     "metadata": {
      "needs_background": "light"
     },
     "output_type": "display_data"
    }
   ],
   "source": [
    "# Create the figure and plot the squre\n",
    "fig, ax = plt.subplots()  # Create a figure containing a single axes.\n",
    "ax.set_aspect('equal') # Make the plot sqare\n",
    "ax.set_xlim(0,10) # Set x-axis limits\n",
    "ax.set_ylim(0,10) # Set y-axis limits\n",
    "xn, yn = np.array(square.exterior.xy)\n",
    "\n",
    "point1 = shp.Point(5,1)\n",
    "ax.plot(point1.x,point1.y,'ro')\n",
    "point2 = shp.Point(5,5)\n",
    "ax.plot(point2.x,point2.y,'ro')\n",
    "point3 = shp.Point(1,1)\n",
    "ax.plot(point3.x,point3.y,'ro')\n",
    "point4 = shp.Point(1,5)\n",
    "ax.plot(point4.x,point4.y,'ro')"
   ]
  },
  {
   "cell_type": "markdown",
   "metadata": {},
   "source": [
    "Now we will move onto polygons. \n",
    "\n",
    "Create a polygon with the following points as its boundary\n",
    "(6,2)\n",
    "(4,3)\n",
    "(5,5)\n",
    "(3,7)\n",
    "(1,4)\n",
    "(2,2)\n",
    "(3,0)\n",
    "(3,2)\n",
    "(4,2)\n",
    "(4,0)\n",
    "(6,2)\n",
    "\n",
    "Plot this polygon."
   ]
  },
  {
   "cell_type": "code",
   "execution_count": 5,
   "metadata": {},
   "outputs": [
    {
     "data": {
      "text/plain": [
       "[<matplotlib.patches.Polygon at 0x7ff4d29020a0>]"
      ]
     },
     "execution_count": 5,
     "metadata": {},
     "output_type": "execute_result"
    },
    {
     "data": {
      "image/png": "[encoded data removed]",
      "text/plain": [
       "<Figure size 432x288 with 1 Axes>"
      ]
     },
     "metadata": {
      "needs_background": "light"
     },
     "output_type": "display_data"
    }
   ],
   "source": [
    "# Create the figure and plot the squre\n",
    "fig, ax = plt.subplots()  # Create a figure containing a single axes.\n",
    "ax.set_aspect('equal') # Make the plot sqare\n",
    "ax.set_xlim(0,10) # Set x-axis limits\n",
    "ax.set_ylim(0,10) # Set y-axis limits\n",
    "xn, yn = np.array(square.exterior.xy)\n",
    "\n",
    "# Define the points that make up the square.\n",
    "boundary = np.array([[ 6, 4, 5, 3, 1, 2, 3, 3, 4, 4, 6 ],\n",
    "                     [ 2, 3, 5, 7, 4, 2, 0, 2, 2, 0, 2]])\n",
    "# Create the polygon\n",
    "square = shp.Polygon(boundary.T)\n",
    "ax.fill(xn, yn, alpha=0.25, fc='b',  ec='k')"
   ]
  },
  {
   "cell_type": "markdown",
   "metadata": {},
   "source": [
    "### Part 3: Perform calucations using geometric objects\n",
    "\n",
    "What is the area of this polygon you just created in the step above?\n",
    "\n",
    "What is the perimeter of this polygon?\n",
    "\n",
    "Write code below to handle this calculation and print the result in the output."
   ]
  },
  {
   "cell_type": "code",
   "execution_count": 6,
   "metadata": {},
   "outputs": [
    {
     "name": "stdout",
     "output_type": "stream",
     "text": [
      "16.0\n",
      "23.20667743495553\n"
     ]
    }
   ],
   "source": [
    "# area of the polygon\n",
    "print(square.area)\n",
    "#perimeter of the polygon\n",
    "print(square.length)"
   ]
  },
  {
   "cell_type": "markdown",
   "metadata": {},
   "source": [
    "Test each of the points you created above to see if they are inside, outside or on the boundary of the polygon you just created. You should have 5 points at: \n",
    "- (3,4)\n",
    "- (5,1)\n",
    "- (5,5)\n",
    "- (1,1)\n",
    "- (1,5)\n",
    "\n",
    "Write code to make this determination and plot the result for each point in the output. \n",
    "\n",
    "Use the format \"Point (x,y): boundary/inside/outside\" with a separate line for each point.\n",
    "\n",
    "Example output if you were testing (6,2), (10,10):  \n",
    "\n",
    "Point (6,2): boundary  \n",
    "Point (10,10): outside  \n",
    "\n",
    "Make sure to format your output correctly!"
   ]
  },
  {
   "cell_type": "code",
   "execution_count": 7,
   "metadata": {},
   "outputs": [
    {
     "name": "stdout",
     "output_type": "stream",
     "text": [
      "POINT (3 4) : inside\n",
      "POINT (5 1) : boundary\n",
      "POINT (5 5) : boundary\n",
      "POINT (1 1) : outside\n",
      "POINT (1 5) : outside\n"
     ]
    }
   ],
   "source": [
    "P1 = shp.Point(3,4)\n",
    "P2 = shp.Point(5,1)\n",
    "P3 = shp.Point(5,5)\n",
    "P4 = shp.Point(1,1)\n",
    "P5 = shp.Point(1,5)\n",
    "\n",
    "array = [P1, P2, P3, P4, P5]\n",
    "for point in array:\n",
    "    if square.contains(point):\n",
    "        print(point,\": inside\")\n",
    "    \n",
    "    elif square.intersects(point):\n",
    "        print(point, \": boundary\")\n",
    "        \n",
    "    else:\n",
    "        print(point, \": outside\")"
   ]
  },
  {
   "cell_type": "markdown",
   "metadata": {},
   "source": [
    "Plot these points and the polygon on the figure so that you can check your answer."
   ]
  },
  {
   "cell_type": "code",
   "execution_count": 8,
   "metadata": {},
   "outputs": [
    {
     "data": {
      "text/plain": [
       "[<matplotlib.lines.Line2D at 0x7ff4b00ee580>]"
      ]
     },
     "execution_count": 8,
     "metadata": {},
     "output_type": "execute_result"
    },
    {
     "data": {
      "image/png": "[encoded data removed]",
      "text/plain": [
       "<Figure size 432x288 with 1 Axes>"
      ]
     },
     "metadata": {
      "needs_background": "light"
     },
     "output_type": "display_data"
    }
   ],
   "source": [
    "# Create the figure and plot the squre\n",
    "fig, ax = plt.subplots()  # Create a figure containing a single axes.\n",
    "ax.set_aspect('equal') # Make the plot sqare\n",
    "ax.set_xlim(0,8) # Set x-axis limits\n",
    "ax.set_ylim(0,8) # Set y-axis limits\n",
    "xn, yn = np.array(square.exterior.xy)\n",
    "\n",
    "# Define the points that make up the square.\n",
    "boundary = np.array([[ 6, 4, 5, 3, 1, 2, 3, 3, 4, 4, 6 ],\n",
    "                     [ 2, 3, 5, 7, 4, 2, 0, 2, 2, 0, 2]])\n",
    "# Create the polygon\n",
    "square = shp.Polygon(boundary.T)\n",
    "ax.fill(xn, yn, alpha=0.25, fc='b',  ec='k')\n",
    "\n",
    "\n",
    "P1 = shp.Point(3,4)\n",
    "ax.plot(P1.x,P1.y,'ro')\n",
    "P2 = shp.Point(5,1)\n",
    "ax.plot(P2.x,P2.y,'ro')\n",
    "P3 = shp.Point(5,5)\n",
    "ax.plot(P3.x,P3.y,'ro')\n",
    "P4 = shp.Point(1,1)\n",
    "ax.plot(P4.x,P4.y,'ro')\n",
    "P5 = shp.Point(1,5)\n",
    "ax.plot(P5.x,P5.y,'ro')"
   ]
  },
  {
   "cell_type": "markdown",
   "metadata": {},
   "source": [
    "### Part 4: Importing field shapes from Mapping Program\n",
    "Use a mapping program like Google Maps that lets use view satelite imagery that can provide the latitude and longitude for arbitary points on that imagery. Find a **non-convex** field within about 100 miles of your university. ([Go here if you need help remembering what non-convex is](./res/tdt_G_convexpolygons.pdf))\n",
    "\n",
    "Using the program, determine the latitude and longitude of the points that make up the boundary of the field. Capture a screenshot of your field (similar to mine below) and put it into your lab6 folder to show the field you are using. Make sure that the latitude and longitude of at least one point are captured in the screenshot.\n",
    "\n",
    "![Example of a point on a non-convex field in Google Maps](../img/GoogleMapsForaPoint.png)\n",
    "\n",
    "Create points in this notebook for each point that makes up the boundary using the latitude and longitude."
   ]
  },
  {
   "cell_type": "code",
   "execution_count": 9,
   "metadata": {},
   "outputs": [],
   "source": [
    "# Insert code here.\n",
    "point1 = shp.Point(-86.947673659681, 40.454952071141236)\n",
    "point2 = shp.Point(-87.0271424319995, 40.47536411825843)\n",
    "point3 = shp.Point(-87.02886625959859, 40.52768211632257)\n",
    "point4 = shp.Point(-86.9923845949934, 40.51675438827737)\n",
    "point5 = shp.Point(-86.93311884245635, 40.524074101230795)\n",
    "\n",
    "all_points = [point1, point2, point3, point4, point5]"
   ]
  },
  {
   "cell_type": "markdown",
   "metadata": {},
   "source": [
    "Use Shapely and Pyproj to convert those Latitude and Longitude Points into Cartisian points. For each point, print its (lat, long) and (X,Y) values.\n",
    "\n",
    "[See the Shapely documentation for examples on how to do this.](https://shapely.readthedocs.io/en/latest/manual.html#other-transformations) \n",
    "\n",
    "The Shapely example is not for our location. It does use the correct projection for the GPS/lat/long points, but you will need a different projection for the location of your field. Remember (from lecture):\n",
    "- WGS84 (GPS or Lat/Long Coordinates): EPSG:4326\n",
    "- UTM Zone: 16n Indiana, Central and Eastern Kentucky: EPSG:32616\n"
   ]
  },
  {
   "cell_type": "code",
   "execution_count": 10,
   "metadata": {},
   "outputs": [
    {
     "name": "stdout",
     "output_type": "stream",
     "text": [
      "Point long/lat: POINT (-86.947673659681 40.45495207114124) Point meters: POINT (504436.777111524 4478255.753095614)\n",
      "Point long/lat: POINT (-87.02714243199949 40.47536411825843) Point meters: POINT (497699.2759446353 4480520.512510797)\n",
      "Point long/lat: POINT (-87.02886625959859 40.52768211632257) Point meters: POINT (497555.0561630702 4486327.849859234)\n",
      "Point long/lat: POINT (-86.9923845949934 40.51675438827737) Point meters: POINT (500645.1220734046 4485114.496767465)\n",
      "Point long/lat: POINT (-86.93311884245635 40.5240741012308) Point meters: POINT (505665.0722937518 4485929.107147167)\n"
     ]
    }
   ],
   "source": [
    "#Projection\n",
    "import pyproj\n",
    "import shapely\n",
    "\n",
    "#from shapely.geometry import Point\n",
    "from shapely.ops import transform\n",
    "\n",
    "wgs84 = pyproj.CRS('EPSG:4326')\n",
    "utm = pyproj.CRS('EPSG:32616')\n",
    "\n",
    "project = pyproj.Transformer.from_crs(wgs84, utm, always_xy=True).transform\n",
    "\n",
    "for Point in all_points:\n",
    "    utm_point = transform(project, Point)\n",
    "    print('Point long/lat:',Point,'Point meters:', utm_point)"
   ]
  },
  {
   "cell_type": "markdown",
   "metadata": {},
   "source": [
    "Plot the field boundary using Cartisian points. \n",
    "\n",
    "*UTM projections will usually end up with very large values for the coordinates as the origin will almost always be many km from the current location. The values provided by UTM are the number of meters from the origin. You many need to use scientific notation or otherwise adjust the scale of your plot to the field plotted correctly. You will also need to consider the x and y axis limits.*"
   ]
  },
  {
   "cell_type": "code",
   "execution_count": 14,
   "metadata": {},
   "outputs": [
    {
     "data": {
      "text/plain": [
       "[<matplotlib.patches.Polygon at 0x7ff4e057eb20>]"
      ]
     },
     "execution_count": 14,
     "metadata": {},
     "output_type": "execute_result"
    },
    {
     "data": {
      "image/png": "[encoded data removed]",
      "text/plain": [
       "<Figure size 432x288 with 1 Axes>"
      ]
     },
     "metadata": {
      "needs_background": "light"
     },
     "output_type": "display_data"
    }
   ],
   "source": [
    "# Create the figure and plot the squre\n",
    "fig, ax = plt.subplots()  # Create a figure containing a single axes.\n",
    "ax.set_aspect('equal') # Make the plot sqare\n",
    "#ax.set_xlim(497500, 505700) # Set x-axis limits\n",
    "#ax.set_ylim(4470000, 4478200) # Set y-axis limits\n",
    "xn, yn = np.array(square.exterior.xy)\n",
    "\n",
    "# Define the points that make up the square.\n",
    "field = np.array([[ 504436.777111524, 497699.2759446353, 497555.0561630702, 500645.1220734046, 505665.0722937518 ],\n",
    "                     [ 4478255.753095614, 4480520.512510797, 4486327.849859234, 4485114.496767465, 4485929.107147167]])\n",
    "# Create the polygon\n",
    "field_ori = shp.Polygon(field.T)\n",
    "ax.fill(xn, yn, alpha=0.25, fc='b',  ec='k')"
   ]
  },
  {
   "cell_type": "markdown",
   "metadata": {},
   "source": [
    "### Part 5: Performing calculations on actual fields\n",
    "\n",
    "What is the area of the field in m<sup>2</sup>?\n",
    "\n",
    "Calculate and print the result."
   ]
  },
  {
   "cell_type": "code",
   "execution_count": 15,
   "metadata": {},
   "outputs": [
    {
     "name": "stdout",
     "output_type": "stream",
     "text": [
      "46456473.02762943\n"
     ]
    }
   ],
   "source": [
    "# Calculate the area of the field in m^2\n",
    "print(field_ori.area)"
   ]
  },
  {
   "cell_type": "markdown",
   "metadata": {},
   "source": [
    "How long would a fence have to be to surround the field on its boundary? (i.e. What is its perimeter?). Provide your answer in meters."
   ]
  },
  {
   "cell_type": "code",
   "execution_count": 16,
   "metadata": {},
   "outputs": [
    {
     "name": "stdout",
     "output_type": "stream",
     "text": [
      "29093.49069577167\n"
     ]
    }
   ],
   "source": [
    "# Calculate the boundary length\n",
    "print(field_ori.length)"
   ]
  },
  {
   "cell_type": "markdown",
   "metadata": {},
   "source": [
    "You are planning on planting a very high value but very sensitive crop in this field. You will require a 20 meter buffer between this crop and other crops. If you place this buffer inside the field boundaries, create the resulting polygon. Plot this new smaller field with the original field. \n",
    "\n",
    "To plot both polygons and have them be visible, you can plot the original field first and then the new smaller field. Make sure to use different colors.\n",
    "\n",
    "A more elegant approach would be to make the polygons partially transparent. You can do that by adding an \"alpha = 0.5\" term to the ax.fill command that you use to plot the polygon. The following code snippet would plot your square in red as 25% transparent with a black boundary. Go to Matplotlib help if you need to find other colors or formats.\n",
    "```\n",
    "ax.fill(xn, yn, alpha=0.25, fc='r', ec='k')\n",
    "```"
   ]
  },
  {
   "cell_type": "code",
   "execution_count": 45,
   "metadata": {},
   "outputs": [
    {
     "data": {
      "text/plain": [
       "[<matplotlib.patches.Polygon at 0x7ff4983278e0>]"
      ]
     },
     "execution_count": 45,
     "metadata": {},
     "output_type": "execute_result"
    },
    {
     "data": {
      "image/png": "[encoded data removed]",
      "text/plain": [
       "<Figure size 432x288 with 1 Axes>"
      ]
     },
     "metadata": {
      "needs_background": "light"
     },
     "output_type": "display_data"
    }
   ],
   "source": [
    "# Create a 20m buffer inside the field boundary\n",
    "\n",
    "# Create the figure and plot the squre\n",
    "fig, ax = plt.subplots()  # Create a figure containing a single axes.\n",
    "#ax.set_aspect('equal') # Make the plot sqare\n",
    "#ax.set_xlim(497500, 505700) # Set x-axis limits\n",
    "#ax.set_ylim(4470000, 4478200) # Set y-axis limits\n",
    "xn, yn = np.array(field_ori.exterior.xy)\n",
    "\n",
    "# Define the points that make up the square.\n",
    "boundary = np.array([[ 504436.777111524, 497699.2759446353, 497555.0561630702, 500645.1220734046, 505665.0722937518 ],\n",
    "                     [ 4478255.753095614, 4480520.512510797, 4486327.849859234, 4485114.496767465, 4485929.107147167]])\n",
    "# Create the polygon\n",
    "square = shp.Polygon(boundary.T)\n",
    "ax.fill(xn, yn, alpha=0.25, fc='b',  ec='k')\n",
    "ax.set_aspect('equal')\n",
    "\n",
    "# Create the field with 20m buffer\n",
    "crop_field = square.buffer(-20, single_sided = True)\n",
    "xn, yn = np.array(crop_field.exterior.xy)\n",
    "ax.fill(xn, yn, alpha=0.25, fc='r', ec='k')"
   ]
  },
  {
   "cell_type": "markdown",
   "metadata": {},
   "source": [
    "What is the percent difference in area between the original field and this buffered field? \n",
    "\n",
    "You can calculate percent difference as\n",
    "```\n",
    "percent difference = (original_area - new_area)/original_area\n",
    "```\n",
    "Calculate the result and print it."
   ]
  },
  {
   "cell_type": "code",
   "execution_count": 22,
   "metadata": {},
   "outputs": [
    {
     "name": "stdout",
     "output_type": "stream",
     "text": [
      "0.012486262473197453\n"
     ]
    }
   ],
   "source": [
    "# Calculate the precent difference\n",
    "original_area = square.area\n",
    "new_area = crop_field.area\n",
    "percent_difference = ((original_area - new_area)/original_area)\n",
    "print(percent_difference)"
   ]
  },
  {
   "cell_type": "markdown",
   "metadata": {},
   "source": [
    "Of course, if a field happens to be surrounded by hay meadow, pasture or forests, it may be able to have the buffer area extend beyond the field instead.\n",
    "\n",
    "Let's calculate the buffer if it extends beyond the field boundary rather than on the inside. Create a new polygon with an outside buffer.\n",
    "\n",
    "Plot this polygon with the orginal polygon."
   ]
  },
  {
   "cell_type": "code",
   "execution_count": 46,
   "metadata": {},
   "outputs": [
    {
     "data": {
      "text/plain": [
       "[<matplotlib.patches.Polygon at 0x7ff498356850>]"
      ]
     },
     "execution_count": 46,
     "metadata": {},
     "output_type": "execute_result"
    },
    {
     "data": {
      "image/png": "[encoded data removed]",
      "text/plain": [
       "<Figure size 432x288 with 1 Axes>"
      ]
     },
     "metadata": {
      "needs_background": "light"
     },
     "output_type": "display_data"
    }
   ],
   "source": [
    "# Create a 20m buffer outside the field boundary\n",
    "\n",
    "# Create the figure and plot the squre\n",
    "fig, ax = plt.subplots()  # Create a figure containing a single axes.\n",
    "#ax.set_aspect('equal') # Make the plot sqare\n",
    "#ax.set_xlim(497500, 505700) # Set x-axis limits\n",
    "#ax.set_ylim(4470000, 4478200) # Set y-axis limits\n",
    "xn, yn = np.array(square.exterior.xy)\n",
    "\n",
    "# Define the points that make up the square.\n",
    "boundary = np.array([[ 504436.777111524, 497699.2759446353, 497555.0561630702, 500645.1220734046, 505665.0722937518 ],\n",
    "                     [ 4478255.753095614, 4480520.512510797, 4486327.849859234, 4485114.496767465, 4485929.107147167]])\n",
    "# Create the polygon\n",
    "square = shp.Polygon(boundary.T)\n",
    "ax.fill(xn, yn, alpha=0.25, fc='b',  ec='k')\n",
    "ax.set_aspect('equal')\n",
    "\n",
    "# Create the field with 20m buffer\n",
    "extend_field = square.buffer(20, single_sided = True)\n",
    "xn, yn = np.array(extend_field.exterior.xy)\n",
    "ax.fill(xn, yn, alpha=0.25, fc='r', ec='k')"
   ]
  },
  {
   "cell_type": "markdown",
   "metadata": {},
   "source": [
    "What is the area of this expanded buffer region? How much area are you going to effect with the buffer outside the field? \n",
    "\n",
    "*Note: This answer should be in m<sup>2</sup>. It is not a percent difference. It is the difference between the two polygons.*\n",
    "\n",
    "*If the buffer is inside the field you are probably worried about how much of the field you are giving up in percentage terms. If it is outside the field, you are probably more interested in the raw area that you are going to monitor.*"
   ]
  },
  {
   "cell_type": "code",
   "execution_count": 26,
   "metadata": {},
   "outputs": [
    {
     "name": "stdout",
     "output_type": "stream",
     "text": [
      "Area of the expanded buffer region: 47039594.630389854\n",
      "The area effected outside the field: 583121.6027604267\n"
     ]
    }
   ],
   "source": [
    "# The area of the expanded buffer region\n",
    "buffer_region = extend_field.area\n",
    "print(\"Area of the expanded buffer region:\", buffer_region)\n",
    "effect_area = extend_field.area - square.area\n",
    "print(\"The area effected outside the field:\", effect_area)"
   ]
  },
  {
   "cell_type": "markdown",
   "metadata": {},
   "source": [
    "We are now going to return to the original field.\n",
    "\n",
    "You have decided to split this field in order to plant two different crops or varieties. You need to select a line that will let you divide the field approximately in half. Select two boundary points on the field polygon and use them. *This does not need to be precisely dividing the field in half. Just do more than cutting off one little corner.*\n",
    "\n",
    "- Create a line using the selected boundary points.\n",
    "- Use this line to split the polygon into subfields.\n",
    "\n",
    "*Depending on the line and the shape of the field, this could be two or more sub fields, so check the output.*\n",
    "\n",
    "What are the areas (used to calculate inputs) and perimeters (used to determine boundary fencing) for each sub-field.\n",
    "Print your results using the following format\n",
    "\n",
    "Sub-field 1: Area: XYZ m2, Perimeter: XYZ m\n",
    "Sub-field 2: Area: XYZ m2, Perimeter: XYZ m\n",
    "*more as necessary*"
   ]
  },
  {
   "cell_type": "code",
   "execution_count": 37,
   "metadata": {},
   "outputs": [
    {
     "name": "stdout",
     "output_type": "stream",
     "text": [
      "GEOMETRYCOLLECTION (POLYGON ((504436.777111524 4478255.753095614, 497699.2759446353 4480520.512510797, 497555.0561630702 4486327.849859234, 504436.777111524 4478255.753095614)), POLYGON ((497555.0561630702 4486327.849859234, 500645.1220734046 4485114.496767465, 505665.0722937518 4485929.107147167, 504436.777111524 4478255.753095614, 497555.0561630702 4486327.849859234)))\n",
      "Sub-field 1: Area:  19400159.526727647 m2, Perimeter:  23524.48020073751 m\n",
      "Sub-field 2: Area:  27056313.50090179 m2, Perimeter:  26783.80055985781 m\n"
     ]
    }
   ],
   "source": [
    "# Set the line\n",
    "from shapely.ops import split, LineString\n",
    "line = LineString([(497555.0561630702, 4486327.849859234), (504436.777111524, 4478255.753095614)])\n",
    "result = split(square, line)\n",
    "print(result)\n",
    "\n",
    "#Sub_field_1 Polygon\n",
    "boundary_1 = np.array([[504436.777111524, 497699.2759446353, 497555.0561630702, 504436.777111524],\n",
    "                      [4478255.753095614, 4480520.512510797, 4486327.849859234, 4478255.753095614]])\n",
    "sub_field_1 = shp.Polygon(boundary_1.T)\n",
    "\n",
    "sub_field_1_area = sub_field_1.area\n",
    "sub_field_1_len = sub_field_1.length\n",
    "print(\"Sub-field 1: Area: \", sub_field_1_area, \"m2,\", \"Perimeter: \", sub_field_1_len, \"m\")\n",
    "\n",
    "#Sub_field_2 Polygon\n",
    "boundary_2 = np.array([[497555.0561630702, 500645.1220734046, 505665.0722937518, 504436.777111524, 497555.0561630702],\n",
    "                       [4486327.849859234, 4485114.496767465, 4485929.107147167, 4478255.753095614, 4486327.849859234]])\n",
    "sub_field_2 = shp.Polygon(boundary_2.T)\n",
    "\n",
    "sub_field_2_area = sub_field_2.area\n",
    "sub_field_2_len = sub_field_2.length\n",
    "print(\"Sub-field 2: Area: \", sub_field_2_area, \"m2,\", \"Perimeter: \", sub_field_2_len, \"m\")"
   ]
  },
  {
   "cell_type": "markdown",
   "metadata": {},
   "source": [
    "Plot the subfields and dividing line using different colors."
   ]
  },
  {
   "cell_type": "code",
   "execution_count": 64,
   "metadata": {},
   "outputs": [
    {
     "data": {
      "text/plain": [
       "[<matplotlib.patches.Polygon at 0x7ff4b231d4f0>]"
      ]
     },
     "execution_count": 64,
     "metadata": {},
     "output_type": "execute_result"
    },
    {
     "data": {
      "image/png": "[encoded data removed]",
      "text/plain": [
       "<Figure size 432x288 with 1 Axes>"
      ]
     },
     "metadata": {
      "needs_background": "light"
     },
     "output_type": "display_data"
    }
   ],
   "source": [
    "# Set the line\n",
    "from shapely.ops import split, LineString\n",
    "line = LineString([(497555.0561630702, 4486327.849859234), (504436.777111524, 4478255.753095614)])\n",
    "result = split(square, line)\n",
    "\n",
    "# Polt the new polygons\n",
    "fig, ax = plt.subplots()\n",
    "xn, yn = np.array(square.exterior.xy)\n",
    "ax.set_aspect('equal')\n",
    "\n",
    "#Polt the line\n",
    "the_line = shp.LineString([(497555.0561630702, 4486327.849859234), (504436.777111524, 4478255.753095614)])\n",
    "plt.plot(*the_line.xy, 'g')\n",
    "\n",
    "\n",
    "#Sub_field_1 Polygon\n",
    "boundary_1 = np.array([[504436.777111524, 497699.2759446353, 497555.0561630702, 504436.777111524],\n",
    "                      [4478255.753095614, 4480520.512510797, 4486327.849859234, 4478255.753095614]])\n",
    "sub_field_1 = shp.Polygon(boundary_1.T)\n",
    "xn, yn = np.array(sub_field_1.exterior.xy)\n",
    "ax.fill(xn, yn, alpha=0.5, fc='b',  ec='k')\n",
    "\n",
    "#Sub_field_2 Polygon\n",
    "boundary_2 = np.array([[497555.0561630702, 500645.1220734046, 505665.0722937518, 504436.777111524, 497555.0561630702],\n",
    "                       [4486327.849859234, 4485114.496767465, 4485929.107147167, 4478255.753095614, 4486327.849859234]])\n",
    "sub_field_2 = shp.Polygon(boundary_2.T)\n",
    "xn, yn = np.array(sub_field_2.exterior.xy)\n",
    "ax.fill(xn, yn, alpha=0.5, fc='r',  ec='k')"
   ]
  },
  {
   "cell_type": "markdown",
   "metadata": {},
   "source": [
    "Create a new line by rotate the dividing line 90 degrees around its center. \n",
    "\n",
    "*Hint: [You can use an affine rotation transformation.](https://shapely.readthedocs.io/en/latest/manual.html#shapely.affinity.rotate)*\n",
    "\n",
    "Use this new rotated line to split the original field.\n",
    "\n",
    "- As before, use this rotated line to calculate the perimeters and areas of the sub-field and print them. \n",
    "- Plot the subfields and dividing line using different colors.\n",
    "\n",
    "It is possible that this rotated dividing line does not intersect your original field. If extending the line allows it to divide the field, you must do that and note that you did so in comments in your code. If the rotated line will not intersect the original field, even if extended, you must note that in your comments as well. You will not have subfields so it will not be possible to cacluate areas or perimeters, and you should skip that part. In either case, plotting the rotated dividing line and the field/sub-fields should make the case obvious.\n",
    "\n",
    "*Note: There is no simple command to extend a line in shapely. You will need to print the xy coordinates and use regular math to determine the slope of the line. Any arbitrary points beyond the boundaries of the orginal field on opposite sides should be suitable and you can calculate that with basic trigonometry. "
   ]
  },
  {
   "cell_type": "code",
   "execution_count": 89,
   "metadata": {},
   "outputs": [
    {
     "name": "stdout",
     "output_type": "stream",
     "text": [
      "GEOMETRYCOLLECTION (POLYGON ((504436.777111524 4478255.753095614, 498409.6221613813 4480281.735070531, 497699.2759446353 4480520.512510797, 497555.0561630702 4486327.849859234, 500645.1220734046 4485114.496767465, 505665.0722937518 4485929.107147167, 504436.777111524 4478255.753095614)))\n",
      "Sub-field 3: Area:  25592135.334898174 m2, Perimeter:  23411.467235433283 m\n",
      "Sub-field 4: Area:  20864337.69273059 m2, Perimeter:  23152.7452982455 m\n"
     ]
    },
    {
     "data": {
      "text/plain": [
       "[<matplotlib.patches.Polygon at 0x7ff4b239dfa0>]"
      ]
     },
     "execution_count": 89,
     "metadata": {},
     "output_type": "execute_result"
    },
    {
     "data": {
      "image/png": "[encoded data removed]",
      "text/plain": [
       "<Figure size 432x288 with 1 Axes>"
      ]
     },
     "metadata": {
      "needs_background": "light"
     },
     "output_type": "display_data"
    }
   ],
   "source": [
    "from shapely import affinity\n",
    "\n",
    "# Polt the new polygons\n",
    "fig, ax = plt.subplots()\n",
    "xn, yn = np.array(square.exterior.xy)\n",
    "ax.set_aspect('equal')\n",
    "\n",
    "# Polt the rotated line\n",
    "# Line was extended to statisfied diving\n",
    "line = LineString([(497555, 4486600), (504436, 4478200)])\n",
    "rotated = affinity.rotate(line, 90, origin='centroid')\n",
    "rotated_line = shp.LineString(rotated)\n",
    "plt.plot(*rotated_line.xy, 'g')\n",
    "rotated_result = split(square, rotated_line)\n",
    "print(rotated_result)\n",
    "\n",
    "#Sub_field_3 Polygon\n",
    "boundary_3 = np.array([[504436.777111524, 498398.2892085958, 505137.4181294955, 505665.0722937518, 504436.777111524],\n",
    "                      [4478255.753095614, 4480285.544555812, 4485843.482282332, 4485929.107147167, 4478255.753095614]])\n",
    "sub_field_3_area = sub_field_3.area\n",
    "sub_field_3_len = sub_field_3.length\n",
    "print(\"Sub-field 3: Area: \", sub_field_3_area, \"m2,\", \"Perimeter: \", sub_field_3_len, \"m\")\n",
    "\n",
    "sub_field_3 = shp.Polygon(boundary_3.T)\n",
    "xn, yn = np.array(sub_field_3.exterior.xy)\n",
    "ax.fill(xn, yn, alpha=0.5, fc='b',  ec='k')\n",
    "\n",
    "#Sub_field_4 Polygon\n",
    "boundary_4 = np.array([[498398.2892085958, 497699.2759446353, 497555.0561630702, 500645.1220734046, 505137.4181294955, 498398.2892085958],\n",
    "                       [4480285.544555812, 4480520.512510797, 4486327.849859234, 4485114.496767465, 4485843.482282332, 4480285.544555812]])\n",
    "sub_field_4_area = sub_field_4.area\n",
    "sub_field_4_len = sub_field_4.length\n",
    "print(\"Sub-field 4: Area: \", sub_field_4_area, \"m2,\", \"Perimeter: \", sub_field_4_len, \"m\")\n",
    "\n",
    "sub_field_4 = shp.Polygon(boundary_4.T)\n",
    "xn, yn = np.array(sub_field_4.exterior.xy)\n",
    "ax.fill(xn, yn, alpha=0.5, fc='r',  ec='k')"
   ]
  },
  {
   "cell_type": "code",
   "execution_count": null,
   "metadata": {},
   "outputs": [],
   "source": []
  }
 ],
 "metadata": {
  "kernelspec": {
   "display_name": "Python 3 (ipykernel)",
   "language": "python",
   "name": "python3"
  },
  "language_info": {
   "codemirror_mode": {
    "name": "ipython",
    "version": 3
   },
   "file_extension": ".py",
   "mimetype": "text/x-python",
   "name": "python",
   "nbconvert_exporter": "python",
   "pygments_lexer": "ipython3",
   "version": "3.9.12"
  }
 },
 "nbformat": 4,
 "nbformat_minor": 4
}
