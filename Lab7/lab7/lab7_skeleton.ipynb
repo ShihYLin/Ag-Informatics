{
  "cells": [
    {
      "cell_type": "markdown",
      "metadata": {
        "id": "hsWAhZtVH05j"
      },
      "source": [
        "# ASM 591 - Lab 7"
      ]
    },
    {
      "cell_type": "markdown",
      "metadata": {
        "id": "IYgTHBy9H05k"
      },
      "source": [
        "# Deep Learning-Based Image Classification"
      ]
    },
    {
      "cell_type": "markdown",
      "metadata": {
        "id": "ExQzY7DZH05k"
      },
      "source": [
        "### 1. Introduction \n",
        "Deep learning is a subset of machine learning which is a subset of artificial intellignece. Deep learning uses convolutional neural networks (CNN)s to extract important features from particular datasets that used to train models for learning specific patterns. One of the most popular and widely used applications of deep learning is image classification. Image classification refers to the identification of different objects that are represented within images. Deep learning-based image classification models require large datasets with hundereds of thousands of images for learning features accurately. \n",
        "\n",
        "<img src=\"img/deep.PNG\" width=300 height=300 />\n",
        "\n",
        "In order to train image classification models, a dataset comprised of different classes is first provided. Each class consists of hunderds to thousands of images. As the number of images used for training image classification models increases, CNN can help train the models better, resulting in higher accuracies. One of the most popular dataset in the MNIST dataset consisting of 10 classes for the numbers 0 to 9. Each class consists of multiple images. In addition, \"Fashion MNIST\" is another popular dataset that is commonly used as a benchmast. Both of these datasets will be used in this lab for training deep learning models capable of identifying the classes present in each of these datasets.\n",
        "\n",
        "The image below shows how a sliding window moves across an image to learn specific features using CNNs.\n",
        "\n",
        "<img src=\"img/cnn1.gif\" width=300 height=300 />     \n",
        "\n",
        "### 2. Language and Framework\n",
        "There are multiple different programming languages and frameworks that are used for training deep learning models. Python is currently the most popular programming language that is used. In addition, two common frameworks are used, namely TensorFlow and PyTorch. However, as TesnorFlow was first introduced, it is more commonly used with a larger community for support. Keras is a framework that is built on top of TensorFlow which helped to easily implement deep learning. Therefore, for the purpose of this lab, Keras and TensorFlow will be used. \n",
        "\n",
        "<img src=\"img/keras.jpg\" width=500 height=200 />\n",
        "\n",
        "### 3. Import Libraries"
      ]
    },
    {
      "cell_type": "code",
      "execution_count": 1,
      "metadata": {
        "id": "GQJsHgSIH05l"
      },
      "outputs": [],
      "source": [
        "# first import the tensorflow and keras libraries\n",
        "import tensorflow as tf"
      ]
    },
    {
      "cell_type": "code",
      "execution_count": 2,
      "metadata": {
        "id": "UpBOMcsKH05l"
      },
      "outputs": [],
      "source": [
        "# import additional libraries for arrays and plotting\n",
        "import numpy as np\n",
        "import matplotlib.pyplot as plt"
      ]
    },
    {
      "cell_type": "markdown",
      "metadata": {
        "id": "aBf4UyBOH05m"
      },
      "source": [
        "### 4. Import Dataset\n",
        "The \"MNIST\" and \"Fashion MNIST\" datasets are benchmark datasets that avaialble to download from tensorflow. Run the code block below in order to obtain the dataset in the correct format. The images below  shows how CNN's learn important features from the MNIST dataset.\n",
        "\n",
        "<img src=\"img/cnn2.gif\" width=300 height=300 />"
      ]
    },
    {
      "cell_type": "code",
      "execution_count": 3,
      "metadata": {
        "colab": {
          "base_uri": "https://localhost:8080/"
        },
        "id": "gG2vCFFBH05m",
        "outputId": "fcd14ec8-9c8d-4737-ad11-4c912dc4e2a8"
      },
      "outputs": [
        {
          "output_type": "stream",
          "name": "stdout",
          "text": [
            "Downloading data from https://storage.googleapis.com/tensorflow/tf-keras-datasets/mnist.npz\n",
            "11490434/11490434 [==============================] - 0s 0us/step\n"
          ]
        }
      ],
      "source": [
        "# import the MNIST dataset\n",
        "(x_train_mnist, y_train_mnist), (x_test_mnist, y_test_mnist) = tf.keras.datasets.mnist.load_data()"
      ]
    },
    {
      "cell_type": "code",
      "execution_count": 4,
      "metadata": {
        "colab": {
          "base_uri": "https://localhost:8080/"
        },
        "id": "dHO7FikuH05m",
        "outputId": "2295a34a-eadd-4241-cd13-2983e49a9626"
      },
      "outputs": [
        {
          "output_type": "execute_result",
          "data": {
            "text/plain": [
              "(60000, 28, 28)"
            ]
          },
          "metadata": {},
          "execution_count": 4
        }
      ],
      "source": [
        "x_train_mnist.shape"
      ]
    },
    {
      "cell_type": "markdown",
      "metadata": {
        "id": "uSnIw_pcH05m"
      },
      "source": [
        "After displaying the shape of the training dataset, you will see (60000,28,28). Here, 60000 represents the number of images that are present and 28 represents that the width and the height of the images is 28 (28 x 28 pixels).\n",
        "\n",
        "However, we will not be able to use the dataset with this shape. Therefore, it needs to be resized and normailized. This is because, in the Keras and Tensorflow frameworks, the input needs to be in an array of 4 dimensions while we currently have 3."
      ]
    },
    {
      "cell_type": "code",
      "execution_count": 5,
      "metadata": {
        "id": "mKItvwboH05m"
      },
      "outputs": [],
      "source": [
        "x_train_mnist = x_train_mnist.reshape(60000, 28, 28, 1)\n",
        "x_test_mnist = x_test_mnist.reshape(10000, 28, 28, 1)\n",
        "input_shape = (28,28,1) # this is the input shape for each of the image that will be used for training"
      ]
    },
    {
      "cell_type": "code",
      "execution_count": 6,
      "metadata": {
        "colab": {
          "base_uri": "https://localhost:8080/"
        },
        "id": "GXkgnk4nH05n",
        "outputId": "f51e68c8-bb58-4036-f0d7-56c1d6d1e05f"
      },
      "outputs": [
        {
          "output_type": "execute_result",
          "data": {
            "text/plain": [
              "(60000,)"
            ]
          },
          "metadata": {},
          "execution_count": 6
        }
      ],
      "source": [
        "y_train_mnist.shape"
      ]
    },
    {
      "cell_type": "markdown",
      "metadata": {
        "id": "i6h862M6H05n"
      },
      "source": [
        "y_train_mnist and y_test_mnist simply represent the labels for each of the image that is present. Therefore, these don't need to be resized."
      ]
    },
    {
      "cell_type": "markdown",
      "metadata": {
        "id": "5ioSrtIDH05n"
      },
      "source": [
        "### 5. Build Model Network Architecture"
      ]
    },
    {
      "cell_type": "code",
      "execution_count": 7,
      "metadata": {
        "id": "g3s7r9FPH05n"
      },
      "outputs": [],
      "source": [
        "from tensorflow.keras.layers import Dense, Conv2D, Dropout, Flatten, MaxPooling2D\n",
        "# use sequential to define the model before adding layers\n",
        "model = tf.keras.Sequential()\n",
        "model.add(Conv2D(64,\n",
        "                (3,3),\n",
        "                activation='relu',\n",
        "                input_shape=input_shape)) # the input shape is only provided to the first layer in the architecture and the following layers will automatically use this.\n",
        "\n",
        "# each convolutional layer is followed by a maxpooling layer\n",
        "model.add(MaxPooling2D(2,2))\n",
        "\n",
        "# add a few more convolutional layers with reduced number of nodes.\n",
        "model.add(Conv2D(32,\n",
        "                (3,3),\n",
        "                activation='relu'))\n",
        "model.add(MaxPooling2D(2,2))\n",
        "\n",
        "model.add(Conv2D(16,\n",
        "                (3,3),\n",
        "                activation='relu'))\n",
        "model.add(MaxPooling2D(2,2))\n",
        "\n",
        "# after adding all the convolutional layers, we have flatten the network in order to make out predictions and assign classes\n",
        "model.add(Flatten())\n",
        "\n",
        "# after the architecture is flattened, we have to add fully convolutional layers or dense layers\n",
        "model.add(Dense(128,\n",
        "               activation='relu'))\n",
        "\n",
        "# finally, we add the output layer where the activation function must be a softmax and the number of nodes must be equal to the number of classes\n",
        "model.add(Dense(10,\n",
        "               activation='softmax'))\n"
      ]
    },
    {
      "cell_type": "code",
      "execution_count": 8,
      "metadata": {
        "colab": {
          "base_uri": "https://localhost:8080/"
        },
        "id": "B8EpdyRlH05n",
        "outputId": "8c7c0945-6ba9-4c29-a573-8d698a000299"
      },
      "outputs": [
        {
          "output_type": "stream",
          "name": "stdout",
          "text": [
            "Model: \"sequential\"\n",
            "_________________________________________________________________\n",
            " Layer (type)                Output Shape              Param #   \n",
            "=================================================================\n",
            " conv2d (Conv2D)             (None, 26, 26, 64)        640       \n",
            "                                                                 \n",
            " max_pooling2d (MaxPooling2D  (None, 13, 13, 64)       0         \n",
            " )                                                               \n",
            "                                                                 \n",
            " conv2d_1 (Conv2D)           (None, 11, 11, 32)        18464     \n",
            "                                                                 \n",
            " max_pooling2d_1 (MaxPooling  (None, 5, 5, 32)         0         \n",
            " 2D)                                                             \n",
            "                                                                 \n",
            " conv2d_2 (Conv2D)           (None, 3, 3, 16)          4624      \n",
            "                                                                 \n",
            " max_pooling2d_2 (MaxPooling  (None, 1, 1, 16)         0         \n",
            " 2D)                                                             \n",
            "                                                                 \n",
            " flatten (Flatten)           (None, 16)                0         \n",
            "                                                                 \n",
            " dense (Dense)               (None, 128)               2176      \n",
            "                                                                 \n",
            " dense_1 (Dense)             (None, 10)                1290      \n",
            "                                                                 \n",
            "=================================================================\n",
            "Total params: 27,194\n",
            "Trainable params: 27,194\n",
            "Non-trainable params: 0\n",
            "_________________________________________________________________\n"
          ]
        }
      ],
      "source": [
        "# show the model\n",
        "model.summary()"
      ]
    },
    {
      "cell_type": "markdown",
      "metadata": {
        "id": "vJRENxfSH05n"
      },
      "source": [
        "### 6. Set The Hyperparameters and Train The Model"
      ]
    },
    {
      "cell_type": "code",
      "execution_count": 9,
      "metadata": {
        "colab": {
          "base_uri": "https://localhost:8080/"
        },
        "id": "z7N1Kw3ZH05n",
        "outputId": "b6de50d4-a170-4a7d-fb0e-d57c1731b4fd"
      },
      "outputs": [
        {
          "output_type": "stream",
          "name": "stdout",
          "text": [
            "Epoch 1/10\n",
            "1875/1875 [==============================] - 15s 4ms/step - loss: 0.3615 - accuracy: 0.8920 - val_loss: 0.1858 - val_accuracy: 0.9441\n",
            "Epoch 2/10\n",
            "1875/1875 [==============================] - 7s 4ms/step - loss: 0.1301 - accuracy: 0.9608 - val_loss: 0.1368 - val_accuracy: 0.9621\n",
            "Epoch 3/10\n",
            "1875/1875 [==============================] - 7s 4ms/step - loss: 0.1034 - accuracy: 0.9687 - val_loss: 0.0926 - val_accuracy: 0.9722\n",
            "Epoch 4/10\n",
            "1875/1875 [==============================] - 7s 4ms/step - loss: 0.0862 - accuracy: 0.9734 - val_loss: 0.0886 - val_accuracy: 0.9721\n",
            "Epoch 5/10\n",
            "1875/1875 [==============================] - 7s 4ms/step - loss: 0.0749 - accuracy: 0.9775 - val_loss: 0.0858 - val_accuracy: 0.9771\n",
            "Epoch 6/10\n",
            "1875/1875 [==============================] - 7s 4ms/step - loss: 0.0698 - accuracy: 0.9787 - val_loss: 0.0882 - val_accuracy: 0.9738\n",
            "Epoch 7/10\n",
            "1875/1875 [==============================] - 7s 4ms/step - loss: 0.0618 - accuracy: 0.9804 - val_loss: 0.0804 - val_accuracy: 0.9784\n",
            "Epoch 8/10\n",
            "1875/1875 [==============================] - 7s 4ms/step - loss: 0.0577 - accuracy: 0.9819 - val_loss: 0.0856 - val_accuracy: 0.9781\n",
            "Epoch 9/10\n",
            "1875/1875 [==============================] - 8s 4ms/step - loss: 0.0519 - accuracy: 0.9835 - val_loss: 0.0900 - val_accuracy: 0.9774\n",
            "Epoch 10/10\n",
            "1875/1875 [==============================] - 7s 4ms/step - loss: 0.0478 - accuracy: 0.9852 - val_loss: 0.0859 - val_accuracy: 0.9781\n"
          ]
        }
      ],
      "source": [
        "model.compile(optimizer='adam', \n",
        "              loss='sparse_categorical_crossentropy', \n",
        "              metrics=['accuracy'])\n",
        "history = model.fit(x=x_train_mnist, y=y_train_mnist, validation_data=(x_test_mnist, y_test_mnist), epochs=10)"
      ]
    },
    {
      "cell_type": "markdown",
      "metadata": {
        "id": "cXUNELOaH05n"
      },
      "source": [
        "### 7. Evaluate The Model and Visualize The Results"
      ]
    },
    {
      "cell_type": "code",
      "execution_count": 10,
      "metadata": {
        "colab": {
          "base_uri": "https://localhost:8080/"
        },
        "id": "WRVxZfhFH05n",
        "outputId": "a350ff2a-be5d-43d7-bcd1-074e7d66bad6"
      },
      "outputs": [
        {
          "output_type": "stream",
          "name": "stdout",
          "text": [
            "313/313 [==============================] - 1s 3ms/step - loss: 0.0859 - accuracy: 0.9781\n"
          ]
        },
        {
          "output_type": "execute_result",
          "data": {
            "text/plain": [
              "[0.08585502952337265, 0.9781000018119812]"
            ]
          },
          "metadata": {},
          "execution_count": 10
        }
      ],
      "source": [
        "# print out the testing accuracy\n",
        "model.evaluate(x_test_mnist, y_test_mnist)"
      ]
    },
    {
      "cell_type": "code",
      "execution_count": 11,
      "metadata": {
        "colab": {
          "base_uri": "https://localhost:8080/",
          "height": 301
        },
        "id": "9iPegLfIH05n",
        "outputId": "03951692-62d1-4ba8-e5b6-9b2195af2271"
      },
      "outputs": [
        {
          "output_type": "stream",
          "name": "stdout",
          "text": [
            "1/1 [==============================] - 0s 136ms/step\n",
            "9\n"
          ]
        },
        {
          "output_type": "display_data",
          "data": {
            "text/plain": [
              "<Figure size 432x288 with 1 Axes>"
            ],
            "image/png": "[encoded data removed]"
          },
          "metadata": {
            "needs_background": "light"
          }
        }
      ],
      "source": [
        "import matplotlib.pyplot as plt\n",
        "\n",
        "image_index = 4444\n",
        "plt.imshow(x_test_mnist[image_index].reshape(28, 28),cmap='Greys')\n",
        "pred = model.predict(x_test_mnist[image_index].reshape(1, 28, 28, 1))\n",
        "print(pred.argmax())"
      ]
    },
    {
      "cell_type": "code",
      "execution_count": 12,
      "metadata": {
        "colab": {
          "base_uri": "https://localhost:8080/",
          "height": 295
        },
        "id": "AitmXj0IH05o",
        "outputId": "57280986-2e2a-4b6e-b911-6245aea14770"
      },
      "outputs": [
        {
          "output_type": "display_data",
          "data": {
            "text/plain": [
              "<Figure size 432x288 with 1 Axes>"
            ],
            "image/png": "[encoded data removed]"
          },
          "metadata": {
            "needs_background": "light"
          }
        }
      ],
      "source": [
        "plt.plot(history.history['accuracy'])\n",
        "plt.plot(history.history['val_accuracy'])\n",
        "plt.title('Training and Validation Accuracy')\n",
        "plt.ylabel('Accuracy')\n",
        "plt.xlabel('Epoch')\n",
        "plt.legend(['train', 'val'], loc='upper left')\n",
        "plt.show()"
      ]
    },
    {
      "cell_type": "code",
      "execution_count": 13,
      "metadata": {
        "colab": {
          "base_uri": "https://localhost:8080/",
          "height": 295
        },
        "id": "Z-CC5ZY8H05o",
        "outputId": "e66d1de6-246e-43a7-99e9-48fafd6f4adf"
      },
      "outputs": [
        {
          "output_type": "display_data",
          "data": {
            "text/plain": [
              "<Figure size 432x288 with 1 Axes>"
            ],
            "image/png": "[encoded data removed]"
          },
          "metadata": {
            "needs_background": "light"
          }
        }
      ],
      "source": [
        "plt.plot(history.history['loss'])\n",
        "plt.plot(history.history['val_loss'])\n",
        "plt.title('Training and Validation Loss')\n",
        "plt.ylabel('Loss')\n",
        "plt.xlabel('Epoch')\n",
        "plt.legend(['train', 'val'], loc='upper left')\n",
        "plt.show()"
      ]
    },
    {
      "cell_type": "markdown",
      "metadata": {
        "id": "As5uBcv5H05o"
      },
      "source": [
        "## Ans:"
      ]
    },
    {
      "cell_type": "markdown",
      "metadata": {
        "id": "0Mrn2RqYH05o"
      },
      "source": [
        "### 8. Now Repeat The Steps For The Fashion MNIST Dataset"
      ]
    },
    {
      "cell_type": "code",
      "execution_count": 14,
      "metadata": {
        "colab": {
          "base_uri": "https://localhost:8080/"
        },
        "id": "wmJyipxDH05o",
        "outputId": "487aa8a2-592d-4ef1-f26f-d21c259ee8f9"
      },
      "outputs": [
        {
          "output_type": "stream",
          "name": "stdout",
          "text": [
            "Downloading data from https://storage.googleapis.com/tensorflow/tf-keras-datasets/train-labels-idx1-ubyte.gz\n",
            "29515/29515 [==============================] - 0s 0us/step\n",
            "Downloading data from https://storage.googleapis.com/tensorflow/tf-keras-datasets/train-images-idx3-ubyte.gz\n",
            "26421880/26421880 [==============================] - 0s 0us/step\n",
            "Downloading data from https://storage.googleapis.com/tensorflow/tf-keras-datasets/t10k-labels-idx1-ubyte.gz\n",
            "5148/5148 [==============================] - 0s 0us/step\n",
            "Downloading data from https://storage.googleapis.com/tensorflow/tf-keras-datasets/t10k-images-idx3-ubyte.gz\n",
            "4422102/4422102 [==============================] - 0s 0us/step\n"
          ]
        }
      ],
      "source": [
        "# import the Fashion MNIST dataset\n",
        "(x_train_fashion, y_train_fashion), (x_test_fashion, y_test_fashion) = tf.keras.datasets.fashion_mnist.load_data()"
      ]
    },
    {
      "cell_type": "markdown",
      "metadata": {
        "id": "hxWrbnJOH05o"
      },
      "source": [
        "The dataset has been imported. Use the same approach as above to resize the dataset, build the model, train the model, and evaluate the model."
      ]
    },
    {
      "cell_type": "code",
      "execution_count": 15,
      "metadata": {
        "id": "D-GwcMf2H05o"
      },
      "outputs": [],
      "source": [
        "# Resize and Normalize the dataset\n",
        "x_train_mnist = x_train_mnist.reshape(60000, 28, 28, 1)\n",
        "x_test_mnist = x_test_mnist.reshape(10000, 28, 28, 1)\n",
        "input_shape = (28,28,1) # this is the input shape for each of the image that will be used for training"
      ]
    },
    {
      "cell_type": "code",
      "execution_count": 16,
      "metadata": {
        "id": "dm0QllagH05o"
      },
      "outputs": [],
      "source": [
        "# Build the Neural Network Model Architecture\n",
        "from tensorflow.keras.layers import Dense, Conv2D, Dropout, Flatten, MaxPooling2D\n",
        "# use sequential to define the model before adding layers\n",
        "model = tf.keras.Sequential()\n",
        "model.add(Conv2D(64,\n",
        "                (3,3),\n",
        "                activation='relu',\n",
        "                input_shape=input_shape)) # the input shape is only provided to the first layer in the architecture and the following layers will automatically use this.\n",
        "\n",
        "# each convolutional layer is followed by a maxpooling layer\n",
        "model.add(MaxPooling2D(2,2))\n",
        "\n",
        "# add a few more convolutional layers with reduced number of nodes.\n",
        "model.add(Conv2D(32,\n",
        "                (3,3),\n",
        "                activation='relu'))\n",
        "model.add(MaxPooling2D(2,2))\n",
        "\n",
        "model.add(Conv2D(16,\n",
        "                (3,3),\n",
        "                activation='relu'))\n",
        "model.add(MaxPooling2D(2,2))\n",
        "\n",
        "# after adding all the convolutional layers, we have flatten the network in order to make out predictions and assign classes\n",
        "model.add(Flatten())\n",
        "\n",
        "# after the architecture is flattened, we have to add fully convolutional layers or dense layers\n",
        "model.add(Dense(128,\n",
        "               activation='relu'))\n",
        "\n",
        "# finally, we add the output layer where the activation function must be a softmax and the number of nodes must be equal to the number of classes\n",
        "model.add(Dense(10,\n",
        "               activation='softmax'))"
      ]
    },
    {
      "cell_type": "code",
      "execution_count": 17,
      "metadata": {
        "colab": {
          "base_uri": "https://localhost:8080/"
        },
        "id": "f9V23BjMH05o",
        "outputId": "320c2801-5af3-45bd-9aad-0010530554f4"
      },
      "outputs": [
        {
          "output_type": "stream",
          "name": "stdout",
          "text": [
            "Epoch 1/10\n",
            "1875/1875 [==============================] - 7s 4ms/step - loss: 0.4762 - accuracy: 0.8523 - val_loss: 0.1954 - val_accuracy: 0.9384\n",
            "Epoch 2/10\n",
            "1875/1875 [==============================] - 7s 4ms/step - loss: 0.1717 - accuracy: 0.9480 - val_loss: 0.1313 - val_accuracy: 0.9608\n",
            "Epoch 3/10\n",
            "1875/1875 [==============================] - 7s 4ms/step - loss: 0.1315 - accuracy: 0.9608 - val_loss: 0.1374 - val_accuracy: 0.9608\n",
            "Epoch 4/10\n",
            "1875/1875 [==============================] - 7s 4ms/step - loss: 0.1079 - accuracy: 0.9672 - val_loss: 0.0963 - val_accuracy: 0.9711\n",
            "Epoch 5/10\n",
            "1875/1875 [==============================] - 7s 4ms/step - loss: 0.0918 - accuracy: 0.9724 - val_loss: 0.1007 - val_accuracy: 0.9734\n",
            "Epoch 6/10\n",
            "1875/1875 [==============================] - 7s 4ms/step - loss: 0.0808 - accuracy: 0.9751 - val_loss: 0.1050 - val_accuracy: 0.9702\n",
            "Epoch 7/10\n",
            "1875/1875 [==============================] - 7s 4ms/step - loss: 0.0724 - accuracy: 0.9777 - val_loss: 0.1042 - val_accuracy: 0.9686\n",
            "Epoch 8/10\n",
            "1875/1875 [==============================] - 7s 4ms/step - loss: 0.0642 - accuracy: 0.9802 - val_loss: 0.0972 - val_accuracy: 0.9717\n",
            "Epoch 9/10\n",
            "1875/1875 [==============================] - 7s 4ms/step - loss: 0.0586 - accuracy: 0.9821 - val_loss: 0.0844 - val_accuracy: 0.9771\n",
            "Epoch 10/10\n",
            "1875/1875 [==============================] - 8s 4ms/step - loss: 0.0525 - accuracy: 0.9837 - val_loss: 0.0751 - val_accuracy: 0.9805\n"
          ]
        }
      ],
      "source": [
        "# Train the Model\n",
        "model.compile(optimizer='adam', \n",
        "              loss='sparse_categorical_crossentropy', \n",
        "              metrics=['accuracy'])\n",
        "history = model.fit(x=x_train_mnist, y=y_train_mnist, validation_data=(x_test_mnist, y_test_mnist), epochs=10)"
      ]
    },
    {
      "cell_type": "code",
      "execution_count": 18,
      "metadata": {
        "colab": {
          "base_uri": "https://localhost:8080/",
          "height": 319
        },
        "id": "jg_tliV4H05o",
        "outputId": "f766242a-44a6-419a-9612-7d33e2e90243"
      },
      "outputs": [
        {
          "output_type": "stream",
          "name": "stdout",
          "text": [
            "313/313 [==============================] - 1s 3ms/step - loss: 0.0751 - accuracy: 0.9805\n",
            "1/1 [==============================] - 0s 222ms/step\n",
            "9\n"
          ]
        },
        {
          "output_type": "display_data",
          "data": {
            "text/plain": [
              "<Figure size 432x288 with 1 Axes>"
            ],
            "image/png": "[encoded data removed]"
          },
          "metadata": {
            "needs_background": "light"
          }
        }
      ],
      "source": [
        "# Evaluate the Model\n",
        "model.evaluate(x_test_mnist, y_test_mnist)\n",
        "\n",
        "import matplotlib.pyplot as plt\n",
        "\n",
        "image_index = 4444\n",
        "plt.imshow(x_test_mnist[image_index].reshape(28, 28),cmap='Greys')\n",
        "pred = model.predict(x_test_mnist[image_index].reshape(1, 28, 28, 1))\n",
        "print(pred.argmax())"
      ]
    },
    {
      "cell_type": "markdown",
      "metadata": {
        "id": "9lvUzmmcH05o"
      },
      "source": [
        "## Question: What can you say about the training of this model by looking at the accuracy and loss plots?"
      ]
    },
    {
      "cell_type": "markdown",
      "metadata": {
        "id": "7s8hwF2mH05o"
      },
      "source": [
        "### 9. Transfer Learning\n",
        "You must have notices that training your model takes a long time. This is because a model was built and trained from scratch. This means that the model that was created had no prior knowledge and everything was learnt from scratch. Although you obtained high accuracies, this is not always that case due to limited availability of large datasets. Therefore, we introduce the concept of transfer learning. Transfer learning is a technique used for training deep learning models where pre-trained weights are obtained and used as priors for training new models. The pre-trained weights are usually obtained from models that were trained on large datasets with multiple classes. It is not necessary for the pre-trained weights to be obtaine from a model that was trained on the same dataset, nor the same application.\n",
        "\n",
        "Pre-trained weights can be loaded into your custom defined models from part 5 of this lab. However, over the past decade, multiple netowrk architectures have been developed that can used with the pre-trained weights. For this lab, you will be using the VGG16 network architecture as shown below. This network architecture can be easily loaded from the Keras and TensorFlow libraries. \n",
        "\n",
        "<img src=\"img/vgg.png\" width=500 height=200 />\n",
        "\n",
        "A common dataset that is used for obtain pre-trained weights is the ImageNet dataset. The pre-trained weights are already avaialble from Keras and TensorFlow. In this section, you will be loading pre-trained weights into popular network architectures for training the same models.\n",
        "\n",
        "<img src=\"img/Imagenet.jpg\" width=500 height=200 />"
      ]
    },
    {
      "cell_type": "code",
      "execution_count": 19,
      "metadata": {
        "colab": {
          "base_uri": "https://localhost:8080/"
        },
        "id": "Ed3wU6iaH05p",
        "outputId": "79c44aa4-a35e-4609-ee90-1acf7547787c"
      },
      "outputs": [
        {
          "output_type": "stream",
          "name": "stdout",
          "text": [
            "Downloading data from https://storage.googleapis.com/tensorflow/keras-applications/vgg16/vgg16_weights_tf_dim_ordering_tf_kernels.h5\n",
            "553467096/553467096 [==============================] - 2s 0us/step\n"
          ]
        },
        {
          "output_type": "execute_result",
          "data": {
            "text/plain": [
              "<keras.engine.functional.Functional at 0x7f36ba383b50>"
            ]
          },
          "metadata": {},
          "execution_count": 19
        }
      ],
      "source": [
        "# load the VGG16 model with the ImageNet pre-trained weights\n",
        "tf.keras.applications.VGG16(\n",
        "    include_top=True,\n",
        "    weights=\"imagenet\",\n",
        "    input_tensor=None,\n",
        "    input_shape=None,\n",
        "    pooling=None,\n",
        "    classes=1000,\n",
        "    classifier_activation=\"softmax\",\n",
        ")"
      ]
    },
    {
      "cell_type": "code",
      "execution_count": 21,
      "metadata": {
        "colab": {
          "base_uri": "https://localhost:8080/"
        },
        "id": "yFmgqkF3H05p",
        "outputId": "46c3a389-518d-42ce-96cd-c90a61b5456c"
      },
      "outputs": [
        {
          "output_type": "execute_result",
          "data": {
            "text/plain": [
              "((60000, 48, 48, 3), (10000, 48, 48, 3))"
            ]
          },
          "metadata": {},
          "execution_count": 21
        }
      ],
      "source": [
        "# the code below has been provided to you for preparing the dataset\n",
        "from tensorflow.keras.utils import img_to_array, array_to_img\n",
        "from tensorflow.keras.layers import Input\n",
        "from tensorflow.keras.models import Model\n",
        "from tensorflow.keras.optimizers import Adam\n",
        "\n",
        "x_train_mnist = np.dstack([x_train_mnist] * 3)\n",
        "x_test_mnist = np.dstack([x_test_mnist] * 3)\n",
        "x_train_mnist.shape, x_test_mnist.shape\n",
        "\n",
        "x_train_mnist = x_train_mnist.reshape(-1, 28,28,3)\n",
        "x_test_mnist = x_test_mnist.reshape (-1,28,28,3)\n",
        "x_train_mnist.shape, x_test_mnist.shape\n",
        "\n",
        "x_train_mnist = np.asarray([img_to_array(array_to_img(im, scale=False).resize((48,48))) for im in x_train_mnist])\n",
        "x_test_mnist = np.asarray([img_to_array(array_to_img(im, scale=False).resize((48,48))) for im in x_test_mnist])\n",
        "#train_x = preprocess_input(x)\n",
        "\n",
        "x_train_mnist.shape, x_test_mnist.shape"
      ]
    },
    {
      "cell_type": "code",
      "execution_count": 22,
      "metadata": {
        "id": "eZ8TTqIqH05p"
      },
      "outputs": [],
      "source": [
        "# set the image width and height equal to 224\n",
        "# this is because, as shown in the image of the VGG16 network architecture above, the input to the first layer has dimension of 224 x 224 x3 (where 3 represents the RGB channles for the image)\n",
        "# if we were using black and white images, there are no RGB channels, therefore the size would have been 224 x 224 x 1\n",
        "batch_size = 16  # set the batch size equal to 16\n",
        "epochs = 100  # define the number of epochs to train for (use 100 for this lab)\n",
        "input_shape = (48,48,3) # this is the input shape for each of the image that will be used for training"
      ]
    },
    {
      "cell_type": "code",
      "execution_count": 23,
      "metadata": {
        "colab": {
          "base_uri": "https://localhost:8080/"
        },
        "id": "2oArZfHWH05p",
        "outputId": "13865d06-62d6-4124-9576-91c7ff4aae6e"
      },
      "outputs": [
        {
          "output_type": "stream",
          "name": "stdout",
          "text": [
            "Downloading data from https://storage.googleapis.com/tensorflow/keras-applications/vgg16/vgg16_weights_tf_dim_ordering_tf_kernels_notop.h5\n",
            "58889256/58889256 [==============================] - 0s 0us/step\n",
            "Model: \"vgg16\"\n",
            "_________________________________________________________________\n",
            " Layer (type)                Output Shape              Param #   \n",
            "=================================================================\n",
            " input_2 (InputLayer)        [(None, 48, 48, 3)]       0         \n",
            "                                                                 \n",
            " block1_conv1 (Conv2D)       (None, 48, 48, 64)        1792      \n",
            "                                                                 \n",
            " block1_conv2 (Conv2D)       (None, 48, 48, 64)        36928     \n",
            "                                                                 \n",
            " block1_pool (MaxPooling2D)  (None, 24, 24, 64)        0         \n",
            "                                                                 \n",
            " block2_conv1 (Conv2D)       (None, 24, 24, 128)       73856     \n",
            "                                                                 \n",
            " block2_conv2 (Conv2D)       (None, 24, 24, 128)       147584    \n",
            "                                                                 \n",
            " block2_pool (MaxPooling2D)  (None, 12, 12, 128)       0         \n",
            "                                                                 \n",
            " block3_conv1 (Conv2D)       (None, 12, 12, 256)       295168    \n",
            "                                                                 \n",
            " block3_conv2 (Conv2D)       (None, 12, 12, 256)       590080    \n",
            "                                                                 \n",
            " block3_conv3 (Conv2D)       (None, 12, 12, 256)       590080    \n",
            "                                                                 \n",
            " block3_pool (MaxPooling2D)  (None, 6, 6, 256)         0         \n",
            "                                                                 \n",
            " block4_conv1 (Conv2D)       (None, 6, 6, 512)         1180160   \n",
            "                                                                 \n",
            " block4_conv2 (Conv2D)       (None, 6, 6, 512)         2359808   \n",
            "                                                                 \n",
            " block4_conv3 (Conv2D)       (None, 6, 6, 512)         2359808   \n",
            "                                                                 \n",
            " block4_pool (MaxPooling2D)  (None, 3, 3, 512)         0         \n",
            "                                                                 \n",
            " block5_conv1 (Conv2D)       (None, 3, 3, 512)         2359808   \n",
            "                                                                 \n",
            " block5_conv2 (Conv2D)       (None, 3, 3, 512)         2359808   \n",
            "                                                                 \n",
            " block5_conv3 (Conv2D)       (None, 3, 3, 512)         2359808   \n",
            "                                                                 \n",
            " block5_pool (MaxPooling2D)  (None, 1, 1, 512)         0         \n",
            "                                                                 \n",
            " global_average_pooling2d (G  (None, 512)              0         \n",
            " lobalAveragePooling2D)                                          \n",
            "                                                                 \n",
            "=================================================================\n",
            "Total params: 14,714,688\n",
            "Trainable params: 14,714,688\n",
            "Non-trainable params: 0\n",
            "_________________________________________________________________\n"
          ]
        }
      ],
      "source": [
        "# load in the custom VGG16 model and build the architecture\n",
        "inp = Input((48, 48, 3))\n",
        "pre_model = tf.keras.applications.VGG16(include_top=False, weights='imagenet', input_tensor=inp, input_shape=(48, 48, 3), pooling='avg')\n",
        "pre_model.summary()"
      ]
    },
    {
      "cell_type": "code",
      "execution_count": 27,
      "metadata": {
        "colab": {
          "base_uri": "https://localhost:8080/"
        },
        "id": "rzmhWYIaH05p",
        "outputId": "bdc0fddd-e925-4b67-80db-965ef98ae50f"
      },
      "outputs": [
        {
          "output_type": "stream",
          "name": "stdout",
          "text": [
            "Model: \"model_1\"\n",
            "_________________________________________________________________\n",
            " Layer (type)                Output Shape              Param #   \n",
            "=================================================================\n",
            " input_2 (InputLayer)        [(None, 48, 48, 3)]       0         \n",
            "                                                                 \n",
            " block1_conv1 (Conv2D)       (None, 48, 48, 64)        1792      \n",
            "                                                                 \n",
            " block1_conv2 (Conv2D)       (None, 48, 48, 64)        36928     \n",
            "                                                                 \n",
            " block1_pool (MaxPooling2D)  (None, 24, 24, 64)        0         \n",
            "                                                                 \n",
            " block2_conv1 (Conv2D)       (None, 24, 24, 128)       73856     \n",
            "                                                                 \n",
            " block2_conv2 (Conv2D)       (None, 24, 24, 128)       147584    \n",
            "                                                                 \n",
            " block2_pool (MaxPooling2D)  (None, 12, 12, 128)       0         \n",
            "                                                                 \n",
            " block3_conv1 (Conv2D)       (None, 12, 12, 256)       295168    \n",
            "                                                                 \n",
            " block3_conv2 (Conv2D)       (None, 12, 12, 256)       590080    \n",
            "                                                                 \n",
            " block3_conv3 (Conv2D)       (None, 12, 12, 256)       590080    \n",
            "                                                                 \n",
            " block3_pool (MaxPooling2D)  (None, 6, 6, 256)         0         \n",
            "                                                                 \n",
            " block4_conv1 (Conv2D)       (None, 6, 6, 512)         1180160   \n",
            "                                                                 \n",
            " block4_conv2 (Conv2D)       (None, 6, 6, 512)         2359808   \n",
            "                                                                 \n",
            " block4_conv3 (Conv2D)       (None, 6, 6, 512)         2359808   \n",
            "                                                                 \n",
            " block4_pool (MaxPooling2D)  (None, 3, 3, 512)         0         \n",
            "                                                                 \n",
            " block5_conv1 (Conv2D)       (None, 3, 3, 512)         2359808   \n",
            "                                                                 \n",
            " block5_conv2 (Conv2D)       (None, 3, 3, 512)         2359808   \n",
            "                                                                 \n",
            " block5_conv3 (Conv2D)       (None, 3, 3, 512)         2359808   \n",
            "                                                                 \n",
            " block5_pool (MaxPooling2D)  (None, 1, 1, 512)         0         \n",
            "                                                                 \n",
            " global_average_pooling2d (G  (None, 512)              0         \n",
            " lobalAveragePooling2D)                                          \n",
            "                                                                 \n",
            " dense_5 (Dense)             (None, 10)                5130      \n",
            "                                                                 \n",
            "=================================================================\n",
            "Total params: 14,719,818\n",
            "Trainable params: 5,130\n",
            "Non-trainable params: 14,714,688\n",
            "_________________________________________________________________\n"
          ]
        }
      ],
      "source": [
        "x = pre_model.output\n",
        "out = Dense(10, activation='softmax')(x)\n",
        "complete_model = Model(inp, out)\n",
        "\n",
        "complete_model.compile(optimizer=Adam(learning_rate=1e-3), loss='categorical_crossentropy', metrics=['accuracy'])\n",
        "complete_model.summary()"
      ]
    },
    {
      "cell_type": "code",
      "execution_count": 25,
      "metadata": {
        "colab": {
          "base_uri": "https://localhost:8080/"
        },
        "id": "8rotmCeuH05p",
        "outputId": "9d70d420-ba3c-4fc5-e042-91fb7b11ebe1"
      },
      "outputs": [
        {
          "output_type": "stream",
          "name": "stdout",
          "text": [
            "Model: \"model\"\n",
            "_________________________________________________________________\n",
            " Layer (type)                Output Shape              Param #   \n",
            "=================================================================\n",
            " input_2 (InputLayer)        [(None, 48, 48, 3)]       0         \n",
            "                                                                 \n",
            " block1_conv1 (Conv2D)       (None, 48, 48, 64)        1792      \n",
            "                                                                 \n",
            " block1_conv2 (Conv2D)       (None, 48, 48, 64)        36928     \n",
            "                                                                 \n",
            " block1_pool (MaxPooling2D)  (None, 24, 24, 64)        0         \n",
            "                                                                 \n",
            " block2_conv1 (Conv2D)       (None, 24, 24, 128)       73856     \n",
            "                                                                 \n",
            " block2_conv2 (Conv2D)       (None, 24, 24, 128)       147584    \n",
            "                                                                 \n",
            " block2_pool (MaxPooling2D)  (None, 12, 12, 128)       0         \n",
            "                                                                 \n",
            " block3_conv1 (Conv2D)       (None, 12, 12, 256)       295168    \n",
            "                                                                 \n",
            " block3_conv2 (Conv2D)       (None, 12, 12, 256)       590080    \n",
            "                                                                 \n",
            " block3_conv3 (Conv2D)       (None, 12, 12, 256)       590080    \n",
            "                                                                 \n",
            " block3_pool (MaxPooling2D)  (None, 6, 6, 256)         0         \n",
            "                                                                 \n",
            " block4_conv1 (Conv2D)       (None, 6, 6, 512)         1180160   \n",
            "                                                                 \n",
            " block4_conv2 (Conv2D)       (None, 6, 6, 512)         2359808   \n",
            "                                                                 \n",
            " block4_conv3 (Conv2D)       (None, 6, 6, 512)         2359808   \n",
            "                                                                 \n",
            " block4_pool (MaxPooling2D)  (None, 3, 3, 512)         0         \n",
            "                                                                 \n",
            " block5_conv1 (Conv2D)       (None, 3, 3, 512)         2359808   \n",
            "                                                                 \n",
            " block5_conv2 (Conv2D)       (None, 3, 3, 512)         2359808   \n",
            "                                                                 \n",
            " block5_conv3 (Conv2D)       (None, 3, 3, 512)         2359808   \n",
            "                                                                 \n",
            " block5_pool (MaxPooling2D)  (None, 1, 1, 512)         0         \n",
            "                                                                 \n",
            " global_average_pooling2d (G  (None, 512)              0         \n",
            " lobalAveragePooling2D)                                          \n",
            "                                                                 \n",
            " dense_4 (Dense)             (None, 10)                5130      \n",
            "                                                                 \n",
            "=================================================================\n",
            "Total params: 14,719,818\n",
            "Trainable params: 5,130\n",
            "Non-trainable params: 14,714,688\n",
            "_________________________________________________________________\n"
          ]
        }
      ],
      "source": [
        "for layer in complete_model.layers[:-1]:\n",
        "    layer.trainable=False\n",
        "complete_model.summary()"
      ]
    },
    {
      "cell_type": "code",
      "execution_count": 26,
      "metadata": {
        "colab": {
          "base_uri": "https://localhost:8080/"
        },
        "id": "wRSi-pEYH05p",
        "outputId": "b4169163-c9bd-47f9-fa65-48011a68019e"
      },
      "outputs": [
        {
          "output_type": "stream",
          "name": "stdout",
          "text": [
            "Epoch 1/10\n",
            "469/469 [==============================] - 23s 46ms/step - loss: 1.8780 - accuracy: 0.7405 - val_loss: 0.5161 - val_accuracy: 0.8670\n",
            "Epoch 2/10\n",
            "469/469 [==============================] - 21s 44ms/step - loss: 0.4076 - accuracy: 0.8903 - val_loss: 0.3361 - val_accuracy: 0.9064\n",
            "Epoch 3/10\n",
            "469/469 [==============================] - 21s 45ms/step - loss: 0.3101 - accuracy: 0.9096 - val_loss: 0.2851 - val_accuracy: 0.9151\n",
            "Epoch 4/10\n",
            "469/469 [==============================] - 21s 44ms/step - loss: 0.2698 - accuracy: 0.9188 - val_loss: 0.2939 - val_accuracy: 0.9092\n",
            "Epoch 5/10\n",
            "469/469 [==============================] - 21s 44ms/step - loss: 0.2510 - accuracy: 0.9226 - val_loss: 0.2718 - val_accuracy: 0.9208\n",
            "Epoch 6/10\n",
            "469/469 [==============================] - 21s 44ms/step - loss: 0.2455 - accuracy: 0.9251 - val_loss: 0.2544 - val_accuracy: 0.9218\n",
            "Epoch 7/10\n",
            "469/469 [==============================] - 21s 44ms/step - loss: 0.2378 - accuracy: 0.9259 - val_loss: 0.2644 - val_accuracy: 0.9191\n",
            "Epoch 8/10\n",
            "469/469 [==============================] - 23s 50ms/step - loss: 0.2357 - accuracy: 0.9264 - val_loss: 0.2633 - val_accuracy: 0.9194\n",
            "Epoch 9/10\n",
            "469/469 [==============================] - 21s 44ms/step - loss: 0.2369 - accuracy: 0.9259 - val_loss: 0.2554 - val_accuracy: 0.9220\n",
            "Epoch 10/10\n",
            "469/469 [==============================] - 21s 44ms/step - loss: 0.2325 - accuracy: 0.9277 - val_loss: 0.2449 - val_accuracy: 0.9256\n"
          ]
        }
      ],
      "source": [
        "# now lets train the pre-trained model\n",
        "complete_model.compile(optimizer='adam', \n",
        "              loss='sparse_categorical_crossentropy', \n",
        "              metrics=['accuracy'])\n",
        "history = complete_model.fit(x=x_train_mnist, y=y_train_mnist, batch_size=128, validation_data=(x_test_mnist, y_test_mnist), epochs=10)"
      ]
    },
    {
      "cell_type": "code",
      "execution_count": 28,
      "metadata": {
        "colab": {
          "base_uri": "https://localhost:8080/",
          "height": 295
        },
        "id": "JajKPPQVH05p",
        "outputId": "4229fb40-cfab-4967-9bee-4a7746ce75a3"
      },
      "outputs": [
        {
          "output_type": "display_data",
          "data": {
            "text/plain": [
              "<Figure size 432x288 with 1 Axes>"
            ],
            "image/png": "[encoded data removed]"
          },
          "metadata": {
            "needs_background": "light"
          }
        }
      ],
      "source": [
        "plt.plot(history.history['accuracy'])\n",
        "plt.plot(history.history['val_accuracy'])\n",
        "plt.title('Training and Validation Accuracy')\n",
        "plt.ylabel('Accuracy')\n",
        "plt.xlabel('Epoch')\n",
        "plt.legend(['train', 'val'], loc='upper left')\n",
        "plt.show()"
      ]
    },
    {
      "cell_type": "code",
      "execution_count": 29,
      "metadata": {
        "colab": {
          "base_uri": "https://localhost:8080/",
          "height": 295
        },
        "id": "QgQv-nmZH05p",
        "outputId": "48275c0f-5c07-48d1-c18c-37faf7c2b4c2"
      },
      "outputs": [
        {
          "output_type": "display_data",
          "data": {
            "text/plain": [
              "<Figure size 432x288 with 1 Axes>"
            ],
            "image/png": "[encoded data removed]"
          },
          "metadata": {
            "needs_background": "light"
          }
        }
      ],
      "source": [
        "plt.plot(history.history['loss'])\n",
        "plt.plot(history.history['val_loss'])\n",
        "plt.title('Training and Validation Loss')\n",
        "plt.ylabel('Loss')\n",
        "plt.xlabel('Epoch')\n",
        "plt.legend(['train', 'val'], loc='upper left')\n",
        "plt.show()"
      ]
    },
    {
      "cell_type": "markdown",
      "metadata": {
        "id": "e4aYLRbFH05q"
      },
      "source": [
        "## Question: What can you say about the training of this model by looking at the accuracy and loss plots?"
      ]
    },
    {
      "cell_type": "markdown",
      "metadata": {
        "id": "VVwZgY5tH05q"
      },
      "source": [
        "## Ans:"
      ]
    },
    {
      "cell_type": "code",
      "execution_count": null,
      "metadata": {
        "id": "ad4rApMfH05q"
      },
      "outputs": [],
      "source": []
    }
  ],
  "metadata": {
    "kernelspec": {
      "display_name": "Python 3 (ipykernel)",
      "language": "python",
      "name": "python3"
    },
    "language_info": {
      "codemirror_mode": {
        "name": "ipython",
        "version": 3
      },
      "file_extension": ".py",
      "mimetype": "text/x-python",
      "name": "python",
      "nbconvert_exporter": "python",
      "pygments_lexer": "ipython3",
      "version": "3.8.8"
    },
    "colab": {
      "provenance": []
    },
    "accelerator": "GPU",
    "gpuClass": "standard"
  },
  "nbformat": 4,
  "nbformat_minor": 0
}